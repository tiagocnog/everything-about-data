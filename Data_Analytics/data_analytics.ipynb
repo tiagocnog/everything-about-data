{
 "cells": [
  {
   "cell_type": "markdown",
   "metadata": {},
   "source": [
    "# **DATA ANALYSIS process**\n",
    "\n",
    "#### **Ask**\n",
    "* Ask effective questions\n",
    "* Define the problem\n",
    "* Use structured thinking\n",
    "* Communicate with others\n",
    "\n",
    "#### **Prepare**\n",
    "* Undestand how data is generated and collected\n",
    "* Identify and use different data formats, types, and structures\n",
    "* Make sure data is unbiased and credible\n",
    "* Organize and protect data\n",
    "\n",
    "#### **Process**\n",
    "* Create and transform data\n",
    "* Maintain data integrity\n",
    "* Test data\n",
    "* Clean data\n",
    "* Verify and report on cleaning results\n",
    "\n",
    "#### **Analyze**\n",
    "* Use tools to format and transform data\n",
    "* Sort and filter data\n",
    "* Identify patterns and draw conclusions\n",
    "* Make predictions and recommendations\n",
    "* Make data-driven decisions\n",
    "\n",
    "#### **Share**\n",
    "* Understand visualization\n",
    "* Create effective visuals\n",
    "* Bring data to life\n",
    "* Use data storytelling\n",
    "* Communicate to help others understand results\n",
    "\n",
    "#### **Act**\n",
    "* Apply your insights\n",
    "* Solve problems\n",
    "* Make decisions\n",
    "* Create something new\n",
    "\n"
   ]
  },
  {
   "cell_type": "markdown",
   "metadata": {},
   "source": [
    "----------------------------------------------------------\n",
    "## *TIPS*\n",
    "\n",
    "* Have methods for everything you do \n",
    "* Always document what you do\n",
    "* Manage expepectations\n",
    "* 2 minutes rule \n",
    "    - If some task can be done within 2 minutes, always do it.\n",
    "* Take time to understand the problem and plan the next steps\n",
    "* Always doublecheck your work\n",
    "* Mistakes will happen eventually\n",
    "    - Try to keep it cool and work through it \n",
    "* **Always formalize and or document dates, deliverables and deadlines. (SCOPE OF WORK)**\n",
    "------------------------------------------------------------"
   ]
  },
  {
   "cell_type": "markdown",
   "metadata": {},
   "source": [
    "\n",
    "## Scope of work\n",
    "\n",
    "**Data team:** (Team members)\n",
    "\n",
    "\n",
    "**Client/Sponsor/Stakeholders:** (Stakeholders)\n",
    "\n",
    "\n",
    "**Purpose:** Write a brief description of why this project is happenning. *Why is this project happening? What are the goals?* \n",
    "\n",
    "\n",
    "**Scope / Major Project Activities:** \n",
    "*What are the major parts of this project? List out the high-level steps, activities, or stages of the project, and give a brief description for each.*\n",
    "\n",
    "Activity | Description\n",
    "--- | ---\n",
    "activity_1 | description_1\n",
    "\n",
    "\n",
    "**This project does not include:**\n",
    "*Specify the things that this project isn’t responsible for doing (out of scope).*\n",
    "* Out of scope 1\n",
    "* Out of scope 2\n",
    "\n",
    "\n",
    "**Deliverables:** \n",
    "*A specific list of things that your project will deliver.*\n",
    "\n",
    "Deliverable | Description/ Details\n",
    "--- | ---\n",
    "deliverable_1 | description_1\n",
    "\n",
    "\n",
    "**Schedule Overview / Major Milestones:** \n",
    "*The expected schedule for the project. This can be defined by milestones (e.g. “all data is cleaned and processed”), periods of time (“Week 1 / Week 2”), or other ways based on the needs of the project.*\n",
    "\n",
    "Milestone | Expected Completion Date* | Description/Details\n",
    "--- | --- | ---\n",
    "milestone_1 | date_1 | description_1\n",
    "\n",
    "*Estimated date for completion: This is my “if all goes well and I have everything I need, this is when I’ll be done” date.\n",
    "\n",
    "**Always manage expectations**\n",
    "\n",
    "----------------------------------------------------------------------------"
   ]
  },
  {
   "cell_type": "markdown",
   "metadata": {},
   "source": [
    "#### **1. Ask**\n",
    "* Ask effective questions\n",
    "* Define the problem\n",
    "* Use structured thinking\n",
    "* Communicate with others\n",
    "\n",
    ".-----------------------------------------------------------------------------------------------------"
   ]
  },
  {
   "cell_type": "markdown",
   "metadata": {},
   "source": [
    "#### **2. Collect**\n",
    "* Undestand how data is generated and collected\n",
    "* Identify and use different data formats, types, and structures"
   ]
  },
  {
   "cell_type": "code",
   "execution_count": 1,
   "metadata": {},
   "outputs": [],
   "source": [
    "# IMPORTS \n",
    "import numpy as np\n",
    "import pandas as pd\n",
    "import matplotlib.pyplot as plt\n",
    "import seaborn as sns"
   ]
  },
  {
   "cell_type": "markdown",
   "metadata": {},
   "source": [
    "##### Importing data via connection with RDBMS\n"
   ]
  },
  {
   "cell_type": "markdown",
   "metadata": {},
   "source": [
    "##### Connect to the PostgreSQL server"
   ]
  },
  {
   "cell_type": "code",
   "execution_count": 6,
   "metadata": {},
   "outputs": [],
   "source": [
    "import psycopg2\n",
    "\n",
    "# Connect to the PostgreSQL server\n",
    "# connection = psycopg2.connect(\n",
    "#     host=\"localhost\",       # or your PostgreSQL server's IP address\n",
    "#     database=\"your_db_name\", # replace with your database name\n",
    "#     user=\"your_username\",    # replace with your database username\n",
    "#     password=\"your_password\" # replace with your database password\n",
    "# )\n",
    "\n",
    "# Create a cursor object to interact with the database\n",
    "# cursor = connection.cursor()\n",
    "\n",
    "# Create a table\n",
    "# cursor.execute('''\n",
    "# CREATE TABLE IF NOT EXISTS users (\n",
    "#     id INT AUTO_INCREMENT PRIMARY KEY,\n",
    "#     name VARCHAR(100),\n",
    "#     age INT\n",
    "# )\n",
    "# ''')\n",
    "\n",
    "# Commit the changes\n",
    "# connection.commit()\n",
    "\n",
    "# Insert data into the table\n",
    "# cursor.execute(\"INSERT INTO users (name, age) VALUES (%s, %s)\", (\"John Doe\", 30))\n",
    "\n",
    "# Commit the transaction\n",
    "# connection.commit()\n",
    "\n",
    "# Query data from the table\n",
    "# cursor.execute(\"SELECT * FROM users\")\n",
    "\n",
    "# Fetch all results\n",
    "# rows = cursor.fetchall()\n",
    "\n",
    "# Print the results\n",
    "# for row in rows:\n",
    "#     print(row)\n",
    "\n",
    "# Close the cursor and connection\n",
    "# cursor.close()\n",
    "# connection.close()"
   ]
  },
  {
   "cell_type": "markdown",
   "metadata": {},
   "source": [
    "##### Connect to the MySQL"
   ]
  },
  {
   "cell_type": "code",
   "execution_count": 5,
   "metadata": {},
   "outputs": [],
   "source": [
    "import mysql.connector"
   ]
  },
  {
   "cell_type": "code",
   "execution_count": 7,
   "metadata": {},
   "outputs": [],
   "source": [
    "# Establish the connection to MySQL\n",
    "# connection = mysql.connector.connect(\n",
    "#     host=\"localhost\",        # or your MySQL server's IP address\n",
    "#     database=\"your_db_name\", # replace with your database name\n",
    "#     user=\"your_username\",    # replace with your MySQL username\n",
    "#     password=\"your_password\" # replace with your MySQL password\n",
    "# )\n",
    "\n",
    "# Create a cursor object to interact with the database\n",
    "# cursor = connection.cursor()\n",
    "\n",
    "\n",
    "# Close the cursor and connection\n",
    "# cursor.close()\n",
    "# connection.close()"
   ]
  },
  {
   "cell_type": "markdown",
   "metadata": {},
   "source": [
    "##### Connect to SAS using SASPy"
   ]
  },
  {
   "cell_type": "code",
   "execution_count": null,
   "metadata": {},
   "outputs": [],
   "source": [
    "# import saspy\n",
    "# Find the configuration file (saspy.py) or create a new one if necessary.\n",
    "# Modify it with the connection details:\n",
    "# saspy.SAS_config_names = ['sas_config']\n",
    "\n",
    "# sas_config = {\n",
    "#     'sas_config': {\n",
    "#         'saspath': '/path/to/sas',\n",
    "#         'options': [\"-fullstimer\"],\n",
    "#         'encoding': 'latin1'\n",
    "#     }\n",
    "# }\n",
    "# Replace '/path/to/sas' with the actual path to your SAS executable\n",
    "\n",
    "# sas = saspy.SASsession(cfgname='sas_config')  # Use the configuration you set up\n",
    "# sas.submit(\"data test; input x; datalines; 1; 2; 3; run;\")  # Example SAS code\n",
    "# sas.saslib('test')  # Access the dataset"
   ]
  },
  {
   "cell_type": "markdown",
   "metadata": {},
   "source": [
    "#### Connecting Python with AWS step-by-step"
   ]
  },
  {
   "cell_type": "markdown",
   "metadata": {},
   "source": [
    "1. Install Boto3\n",
    "`pip install boto3`\n",
    "\n",
    "2. Set up AWS Credentials\n",
    "    * AWS CLI\n",
    "        * bash command: \n",
    "            - aws configure\n",
    "\n",
    "    * Manually Set AWS Credentials\n",
    "        * C:\\Users\\Name\\\\.aws\\credentials\n",
    "            - [default]\n",
    "            - aws_access_key_id = YOUR_ACCESS_KEY\n",
    "            - aws_secret_access_key = YOUR_SECRET_KEY\n",
    "    \n",
    "    * Environment Variables\n",
    "        * bash command: \n",
    "            - export AWS_ACCESS_KEY_ID=YOUR_ACCESS_KEY\n",
    "            - export AWS_SECRET_ACCESS_KEY=YOUR_SECRET_KEY\n",
    "            - export AWS_DEFAULT_REGION=us-west-2"
   ]
  },
  {
   "cell_type": "code",
   "execution_count": null,
   "metadata": {},
   "outputs": [
    {
     "name": "stdout",
     "output_type": "stream",
     "text": [
      "Current Credentials: <botocore.credentials.Credentials object at 0x0000015A209A70E0>\n",
      "sa-east-1\n"
     ]
    }
   ],
   "source": [
    "import boto3\n",
    "from dotenv import load_dotenv\n",
    "import os\n",
    "\n",
    "# Load .env credentials\n",
    "load_dotenv()\n",
    "ACCESS_KEY=os.environ.get(\"ACCESS_KEY\")\n",
    "SECRET_KEY = os.environ.get(\"SECRET_KEY\")\n",
    "\n",
    "# Create a Boto3 session\n",
    "session = boto3.Session(\n",
    "    aws_access_key_id=ACCESS_KEY,\n",
    "    aws_secret_access_key=SECRET_KEY,\n",
    "    region_name=\"sa-east-1\"\n",
    ")\n",
    "\n",
    "# session= None # optional, don't need to explicit close the session."
   ]
  },
  {
   "cell_type": "code",
   "execution_count": null,
   "metadata": {},
   "outputs": [],
   "source": []
  }
 ],
 "metadata": {
  "kernelspec": {
   "display_name": ".workvenv",
   "language": "python",
   "name": "python3"
  },
  "language_info": {
   "codemirror_mode": {
    "name": "ipython",
    "version": 3
   },
   "file_extension": ".py",
   "mimetype": "text/x-python",
   "name": "python",
   "nbconvert_exporter": "python",
   "pygments_lexer": "ipython3",
   "version": "3.12.4"
  }
 },
 "nbformat": 4,
 "nbformat_minor": 2
}

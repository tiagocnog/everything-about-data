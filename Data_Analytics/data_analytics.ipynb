{
 "cells": [
  {
   "cell_type": "markdown",
   "metadata": {},
   "source": [
    "# **DATA ANALYSIS process**\n",
    "\n",
    "#### **Ask**\n",
    "* Ask effective questions\n",
    "* Define the problem\n",
    "* Use structured thinking\n",
    "* Communicate with others\n",
    "\n",
    "#### **Prepare**\n",
    "* Undestand how data is generated and collected\n",
    "* Identify and use different data formats, types, and structures\n",
    "* Make sure data is unbiased and credible\n",
    "* Organize and protect data\n",
    "\n",
    "#### **Process**\n",
    "* Create and transform data\n",
    "* Maintain data integrity\n",
    "* Test data\n",
    "* Clean data\n",
    "* Verify and report on cleaning results\n",
    "\n",
    "#### **Analyze**\n",
    "* Use tools to format and transform data\n",
    "* Sort and filter data\n",
    "* Identify patterns and draw conclusions\n",
    "* Make predictions and recommendations\n",
    "* Make data-driven decisions\n",
    "\n",
    "#### **Share**\n",
    "* Understand visualization\n",
    "* Create effective visuals\n",
    "* Bring data to life\n",
    "* Use data storytelling\n",
    "* Communicate to help others understand results\n",
    "\n",
    "#### **Act**\n",
    "* Apply your insights\n",
    "* Solve problems\n",
    "* Make decisions\n",
    "* Create something new\n",
    "\n"
   ]
  },
  {
   "cell_type": "markdown",
   "metadata": {},
   "source": [
    "----------------------------------------------------------\n",
    "## *TIPS*\n",
    "\n",
    "* Have methods for everything you do \n",
    "* Always document what you do\n",
    "* Manage expepectations\n",
    "* 2 minutes rule \n",
    "    - If some task can be done within 2 minutes, always do it.\n",
    "* Take time to understand the problem and plan the next steps\n",
    "* Always doublecheck your work\n",
    "* Mistakes will happen eventually\n",
    "    - Try to keep it cool and work through it \n",
    "* **Always formalize and or document dates, deliverables and deadlines. (SCOPE OF WORK)**\n",
    "------------------------------------------------------------"
   ]
  },
  {
   "cell_type": "markdown",
   "metadata": {},
   "source": [
    "\n",
    "## Scope of work\n",
    "\n",
    "**Data team:** (Team members)\n",
    "\n",
    "\n",
    "**Client/Sponsor/Stakeholders:** (Stakeholders)\n",
    "\n",
    "\n",
    "**Purpose:** Write a brief description of why this project is happenning. *Why is this project happening? What are the goals?* \n",
    "\n",
    "\n",
    "**Scope / Major Project Activities:** \n",
    "*What are the major parts of this project? List out the high-level steps, activities, or stages of the project, and give a brief description for each.*\n",
    "\n",
    "Activity | Description\n",
    "--- | ---\n",
    "activity_1 | description_1\n",
    "\n",
    "\n",
    "**This project does not include:**\n",
    "*Specify the things that this project isn’t responsible for doing (out of scope).*\n",
    "* Out of scope 1\n",
    "* Out of scope 2\n",
    "\n",
    "\n",
    "**Deliverables:** \n",
    "*A specific list of things that your project will deliver.*\n",
    "\n",
    "Deliverable | Description/ Details\n",
    "--- | ---\n",
    "deliverable_1 | description_1\n",
    "\n",
    "\n",
    "**Schedule Overview / Major Milestones:** \n",
    "*The expected schedule for the project. This can be defined by milestones (e.g. “all data is cleaned and processed”), periods of time (“Week 1 / Week 2”), or other ways based on the needs of the project.*\n",
    "\n",
    "Milestone | Expected Completion Date* | Description/Details\n",
    "--- | --- | ---\n",
    "milestone_1 | date_1 | description_1\n",
    "\n",
    "*Estimated date for completion: This is my “if all goes well and I have everything I need, this is when I’ll be done” date.\n",
    "\n",
    "**Always manage expectations**\n",
    "\n",
    "----------------------------------------------------------------------------"
   ]
  },
  {
   "cell_type": "code",
   "execution_count": null,
   "metadata": {
    "vscode": {
     "languageId": "plaintext"
    }
   },
   "outputs": [],
   "source": []
  },
  {
   "cell_type": "markdown",
   "metadata": {},
   "source": []
  }
 ],
 "metadata": {
  "language_info": {
   "name": "python"
  }
 },
 "nbformat": 4,
 "nbformat_minor": 2
}
